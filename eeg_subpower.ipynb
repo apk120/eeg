{
 "cells": [
  {
   "cell_type": "code",
   "execution_count": 2,
   "metadata": {},
   "outputs": [
    {
     "name": "stderr",
     "output_type": "stream",
     "text": [
      "/home/apk/anaconda2/lib/python2.7/site-packages/h5py/__init__.py:36: FutureWarning: Conversion of the second argument of issubdtype from `float` to `np.floating` is deprecated. In future, it will be treated as `np.float64 == np.dtype(float).type`.\n",
      "  from ._conv import register_converters as _register_converters\n"
     ]
    }
   ],
   "source": [
    "import pandas as pd\n",
    "import numpy as np\n",
    "import matplotlib.pyplot as plt\n",
    "import h5py\n",
    "import os\n",
    "import scipy.signal as signal\n",
    "from scipy import sparse\n",
    "from scipy.sparse.linalg import spsolve"
   ]
  },
  {
   "cell_type": "code",
   "execution_count": 3,
   "metadata": {},
   "outputs": [
    {
     "name": "stdout",
     "output_type": "stream",
     "text": [
      "aa2018.10.06_12.57.24.hdf5\n"
     ]
    }
   ],
   "source": [
    "arr1=(list(os.listdir('/home/apk/id6Day1-20190503T170539Z-001/id6Day1')))\n",
    "arr2=(list(os.listdir('/home/apk/id6Day2-20190503T211715Z-001/id6Day2')))\n",
    "arr7=(list(os.listdir('/home/apk/id6Day7-20190503T212715Z-001/id6Day7')))\n",
    "arr30=(list(os.listdir('/home/apk/id6Day30-20190503T212316Z-001/id6Day30')))\n",
    "arr90=(list(os.listdir('/home/apk/id6Day90-20190503T213214Z-001/id6Day90')))\n",
    "arr1.sort()\n",
    "arr2.sort()\n",
    "arr7.sort()\n",
    "arr30.sort()\n",
    "arr90.sort()\n",
    "efile=[]\n",
    "efile.append(arr1[len(arr1)-14:])\n",
    "efile.append(arr2[len(arr2)-14:])\n",
    "efile.append(arr7[len(arr7)-14:])\n",
    "efile.append(arr30[len(arr30)-14:])\n",
    "efile.append(arr90[len(arr90)-14:])\n",
    "print efile[0][1]"
   ]
  },
  {
   "cell_type": "code",
   "execution_count": 4,
   "metadata": {},
   "outputs": [],
   "source": [
    "def CAR(samples):\n",
    "    s=[]\n",
    "    for i in range(0, len(samples)):\n",
    "        s.append((sum(samples))/64.0)\n",
    "    \n",
    "    sample=samples-s\n",
    "    return sample, s"
   ]
  },
  {
   "cell_type": "code",
   "execution_count": 5,
   "metadata": {},
   "outputs": [],
   "source": [
    "def elliptic_bandpass(order, rp, rs, lowcut, highcut):\n",
    "    fs=256\n",
    "    nyq = 0.5 * fs\n",
    "    low = lowcut / nyq\n",
    "    high = highcut / nyq\n",
    "    b, a = signal.ellip(order, rp, rs, [low, high], btype='bandpass', analog=False, output='ba')\n",
    "    return b, a"
   ]
  },
  {
   "cell_type": "code",
   "execution_count": 6,
   "metadata": {},
   "outputs": [],
   "source": [
    "def baseline_als(y, lam, p, niter=10):\n",
    "    L = len(y)\n",
    "    D = sparse.diags([1,-2,1],[0,-1,-2], shape=(L,L-2))\n",
    "    #D = sparse.csc_matrix(np.diff(np.eye(L), 2))\n",
    "    w = np.ones(L)\n",
    "    for i in range(niter):\n",
    "        W = sparse.spdiags(w, 0, L, L)\n",
    "        Z = W + lam * D.dot(D.transpose())\n",
    "        z = spsolve(Z, w*y)\n",
    "        w = p * (y > z) + (1-p) * (y < z)\n",
    "    return z"
   ]
  },
  {
   "cell_type": "code",
   "execution_count": 7,
   "metadata": {},
   "outputs": [],
   "source": [
    "spr_channels=[0,2,7,9,11,13,15,62,25,27,29,31,33,63,43,45,47,49,51,57,59]\n",
    "spr_channel_names=['fp1','fp2','f7','f3','fz','f4','f8','A1','T3','C3','Cz','C4','T4','A2','T5','P3','Pz','P4','T6'\n",
    "                  ,'O1','O2']"
   ]
  },
  {
   "cell_type": "code",
   "execution_count": 8,
   "metadata": {},
   "outputs": [],
   "source": [
    "eega=h5py.File(efile[0][0],mode='r')\n",
    "eegaa=h5py.File(efile[0][1],mode='r')\n",
    "samplesa=np.array(eega[\"RawData\"]['Samples'])\n",
    "samplesaa=np.array(eegaa[\"RawData\"]['Samples'])"
   ]
  },
  {
   "cell_type": "code",
   "execution_count": 9,
   "metadata": {},
   "outputs": [
    {
     "name": "stdout",
     "output_type": "stream",
     "text": [
      "41940\n"
     ]
    }
   ],
   "source": [
    "print len(samplesa)"
   ]
  },
  {
   "cell_type": "code",
   "execution_count": null,
   "metadata": {},
   "outputs": [],
   "source": []
  }
 ],
 "metadata": {
  "kernelspec": {
   "display_name": "Python 2",
   "language": "python",
   "name": "python2"
  },
  "language_info": {
   "codemirror_mode": {
    "name": "ipython",
    "version": 2
   },
   "file_extension": ".py",
   "mimetype": "text/x-python",
   "name": "python",
   "nbconvert_exporter": "python",
   "pygments_lexer": "ipython2",
   "version": "2.7.15"
  }
 },
 "nbformat": 4,
 "nbformat_minor": 2
}

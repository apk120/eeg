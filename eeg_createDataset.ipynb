{
 "cells": [
  {
   "cell_type": "code",
   "execution_count": 1,
   "metadata": {},
   "outputs": [],
   "source": [
    "from __future__ import division\n",
    "import math\n",
    "import os\n",
    "import mne\n",
    "from mne import io\n",
    "from mne.event import define_target_events\n",
    "import numpy as np\n",
    "import h5py\n",
    "import matplotlib.pyplot as plt\n",
    "from PIL import Image\n",
    "import glob"
   ]
  },
  {
   "cell_type": "code",
   "execution_count": 2,
   "metadata": {},
   "outputs": [],
   "source": [
    "import pandas as pd"
   ]
  },
  {
   "cell_type": "code",
   "execution_count": 3,
   "metadata": {},
   "outputs": [],
   "source": [
    "from sklearn.model_selection import train_test_split"
   ]
  },
  {
   "cell_type": "code",
   "execution_count": 5,
   "metadata": {},
   "outputs": [
    {
     "name": "stdout",
     "output_type": "stream",
     "text": [
      "7\n"
     ]
    }
   ],
   "source": [
    "arr_all= (glob.glob(\"D:/001/arti/separatedEpochs/*\"))\n",
    "print (len(arr_all))"
   ]
  },
  {
   "cell_type": "code",
   "execution_count": 6,
   "metadata": {},
   "outputs": [
    {
     "name": "stdout",
     "output_type": "stream",
     "text": [
      "1744 1744\n"
     ]
    }
   ],
   "source": [
    "y_all= [0, 1, 2, 3, 4, 5, 6]\n",
    "y= []\n",
    "x= []\n",
    "for i in y_all:\n",
    "    ar= arr_all[i]\n",
    "    arr_names= ar+'/*'\n",
    "    for arr in glob.glob(arr_names):\n",
    "        x.append(arr)\n",
    "        y.append(i)\n",
    "        \n",
    "print (len(y), len(x))"
   ]
  },
  {
   "cell_type": "code",
   "execution_count": 7,
   "metadata": {},
   "outputs": [
    {
     "name": "stdout",
     "output_type": "stream",
     "text": [
      "244\n",
      "1500\n"
     ]
    }
   ],
   "source": [
    "y= np.array(y)\n",
    "x=np.array(x)\n",
    "(x_train, x_test, y_train, y_test)= train_test_split(x, y, test_size= 0.1395, random_state= 42)\n",
    "data_train= np.vstack((x_train, y_train))\n",
    "data_test= np.vstack((x_test, y_test))\n",
    "data_train= data_train.T\n",
    "data_test= data_test.T\n",
    "print (len(data_test))\n",
    "print (len(data_train))"
   ]
  },
  {
   "cell_type": "code",
   "execution_count": 8,
   "metadata": {},
   "outputs": [],
   "source": [
    "df_train= pd.DataFrame(data_train, columns= ['signal', 'type'])\n",
    "df_train.to_csv('D:/001/arti/separatedEpochs/EEGArtiData_train.csv', sep=',')\n",
    "df_test= pd.DataFrame(data_test, columns=['signal', 'type'])\n",
    "df_test.to_csv('D:/001/arti/separatedEpochs/EEGArtiData_test.csv', sep=',')"
   ]
  },
  {
   "cell_type": "code",
   "execution_count": null,
   "metadata": {},
   "outputs": [],
   "source": []
  }
 ],
 "metadata": {
  "kernelspec": {
   "display_name": "Python 3",
   "language": "python",
   "name": "python3"
  },
  "language_info": {
   "codemirror_mode": {
    "name": "ipython",
    "version": 3
   },
   "file_extension": ".py",
   "mimetype": "text/x-python",
   "name": "python",
   "nbconvert_exporter": "python",
   "pygments_lexer": "ipython3",
   "version": "3.7.3"
  }
 },
 "nbformat": 4,
 "nbformat_minor": 2
}

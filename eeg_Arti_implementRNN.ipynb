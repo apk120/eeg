{
 "cells": [
  {
   "cell_type": "code",
   "execution_count": 2,
   "metadata": {},
   "outputs": [
    {
     "name": "stderr",
     "output_type": "stream",
     "text": [
      "Using TensorFlow backend.\n"
     ]
    }
   ],
   "source": [
    "from __future__ import division\n",
    "import keras\n",
    "import pandas as pd\n",
    "import math\n",
    "import os\n",
    "import mne\n",
    "from mne import io\n",
    "from mne.event import define_target_events\n",
    "import numpy as np\n",
    "import h5py\n",
    "import matplotlib.pyplot as plt\n",
    "from PIL import Image\n",
    "import glob"
   ]
  },
  {
   "cell_type": "code",
   "execution_count": 24,
   "metadata": {},
   "outputs": [],
   "source": [
    "from keras.models import Sequential\n",
    "from keras.layers import LSTM, Dense, Dropout, Masking, Embedding, Input"
   ]
  },
  {
   "cell_type": "code",
   "execution_count": 104,
   "metadata": {},
   "outputs": [],
   "source": [
    "df_train= pd.read_csv('D:/001/arti/separatedEpochs/EEGArtiData_train.csv')\n",
    "df_test= pd.read_csv(\"D:/001/arti/separatedEpochs/EEGArtiData_test.csv\")"
   ]
  },
  {
   "cell_type": "code",
   "execution_count": 105,
   "metadata": {},
   "outputs": [],
   "source": [
    "y_train= np.array(pd.get_dummies(df_train['type']))\n",
    "y_test= np.array(pd.get_dummies(df_test['type']))"
   ]
  },
  {
   "cell_type": "code",
   "execution_count": 106,
   "metadata": {},
   "outputs": [
    {
     "name": "stdout",
     "output_type": "stream",
     "text": [
      "(1500, 7)\n"
     ]
    }
   ],
   "source": [
    "print (np.shape(y_train))"
   ]
  },
  {
   "cell_type": "code",
   "execution_count": 107,
   "metadata": {},
   "outputs": [],
   "source": [
    "x_train_names= df_train['signal']\n",
    "x_train= []\n",
    "for name in x_train_names:\n",
    "    raw= mne.read_epochs(name, verbose= False)\n",
    "    data= (raw.get_data()[0, :, :])\n",
    "    x_train.append(data.T)\n",
    "#x_train= np.array(x_train)\n",
    "#print (len(x_train))"
   ]
  },
  {
   "cell_type": "code",
   "execution_count": 108,
   "metadata": {},
   "outputs": [
    {
     "name": "stdout",
     "output_type": "stream",
     "text": [
      "(1500, 2560, 63)\n"
     ]
    }
   ],
   "source": [
    "x_train= np.array(x_train)\n",
    "print (np.shape(x_train))"
   ]
  },
  {
   "cell_type": "code",
   "execution_count": 109,
   "metadata": {},
   "outputs": [],
   "source": [
    "#values= []\n",
    "#X_Train= np.array(x_train[0])\n",
    "#for i in range(0, len(x_train)):\n",
    " #   if len(x_train[i])== 1280:\n",
    "  #      x_train[i]= np.hstack((np.zeros(640), x_train[i], np.zeros(640)))\n",
    "   # values.append(len(x_train[i]))\n",
    "    #if i!=0:\n",
    "     #   X_Train= np.vstack((X_Train, x_train[i]))\n",
    "#values= np.array(values)\n",
    "#print (np.unique(values))"
   ]
  },
  {
   "cell_type": "code",
   "execution_count": 110,
   "metadata": {},
   "outputs": [],
   "source": [
    "#print (X_Train[10])\n",
    "#print (x_train[10])"
   ]
  },
  {
   "cell_type": "code",
   "execution_count": 111,
   "metadata": {},
   "outputs": [],
   "source": [
    "X_train= x_train"
   ]
  },
  {
   "cell_type": "code",
   "execution_count": 114,
   "metadata": {},
   "outputs": [
    {
     "name": "stdout",
     "output_type": "stream",
     "text": [
      "244\n"
     ]
    }
   ],
   "source": [
    "x_test_names= df_test['signal']\n",
    "x_test= []\n",
    "for name in x_test_names:\n",
    "    raw= mne.read_epochs(name, verbose= False)\n",
    "    data= raw.get_data()[0, :, :]\n",
    "    x_test.append(data.T)\n",
    "x_test= np.array(x_test)\n",
    "print (len(x_test))"
   ]
  },
  {
   "cell_type": "code",
   "execution_count": 115,
   "metadata": {},
   "outputs": [
    {
     "name": "stdout",
     "output_type": "stream",
     "text": [
      "(244, 2560, 63)\n"
     ]
    }
   ],
   "source": [
    "X_test= x_test\n",
    "print (np.shape(x_test))"
   ]
  },
  {
   "cell_type": "code",
   "execution_count": 116,
   "metadata": {},
   "outputs": [],
   "source": [
    "#values= []\n",
    "#X_Test= np.array(x_test[0])\n",
    "#for i in range(0, len(x_test)):\n",
    " #   if len(x_test[i])== 1280:\n",
    "  #      x_test[i]= np.hstack((np.zeros(640), x_test[i], np.zeros(640)))\n",
    "   # values.append(len(x_test[i]))\n",
    "    #if i!=0:\n",
    "     #   X_Test= np.vstack((X_Test, x_test[i]))\n",
    "#values= np.array(values)\n",
    "#print (np.unique(values))"
   ]
  },
  {
   "cell_type": "code",
   "execution_count": 117,
   "metadata": {},
   "outputs": [],
   "source": [
    "#print(np.shape(X_Test))\n",
    "#X_Train= X_Train.reshape((1500, 2560, 1))\n",
    "#X_Test= X_Test.reshape((244, 2560, 1))\n",
    "#print(np.shape(X_Test))"
   ]
  },
  {
   "cell_type": "code",
   "execution_count": 122,
   "metadata": {},
   "outputs": [],
   "source": [
    "input_length= 2560\n",
    "output_length= 7\n",
    "model = Sequential()\n",
    "\n",
    "# Embedding layer\n",
    "#model.add(Embedding(input_dim=num_words,input_length = training_length,output_dim=100,weights=[embedding_matrix],\n",
    "              #trainable=False,\n",
    "              #mask_zero=True))\n",
    "\n",
    "# Masking layer for pre-trained embeddings\n",
    "#model.add(Masking(mask_value=0.0))\n",
    "#model.add(Input(shape= (input_length, )))\n",
    "model.add(Dense(256, activation= 'tanh', name= \"d1\"))\n",
    "# Recurrent layer\n",
    "model.add(LSTM(32, return_sequences=False, \n",
    "               dropout=0.1, recurrent_dropout=0.1, name= 'l1'))\n",
    "\n",
    "# Fully connected layer\n",
    "model.add(Dense(256, activation='relu', name='d2'))\n",
    "\n",
    "# Dropout for regularization\n",
    "model.add(Dropout(0.5))\n",
    "\n",
    "# Output layer\n",
    "model.add(Dense(output_length, activation='sigmoid', name='d3'))\n",
    "optimizer= keras.optimizers.Adam(lr=0.01, beta_1=0.9, beta_2=0.999, epsilon=None, decay=0.0, amsgrad=False)\n",
    "# Compile the model\n",
    "model.compile(optimizer= optimizer, loss='categorical_crossentropy', metrics=['accuracy'])"
   ]
  },
  {
   "cell_type": "code",
   "execution_count": 123,
   "metadata": {},
   "outputs": [],
   "source": [
    "from keras.callbacks import EarlyStopping, ModelCheckpoint\n",
    "\n",
    "# Create callbacks\n",
    "callbacks = [EarlyStopping(monitor='val_loss', patience=5),\n",
    "             ModelCheckpoint('D:/001/arti/separatedEpochs/model.h5', save_best_only= True, \n",
    "                             save_weights_only=False)]"
   ]
  },
  {
   "cell_type": "code",
   "execution_count": null,
   "metadata": {},
   "outputs": [
    {
     "name": "stdout",
     "output_type": "stream",
     "text": [
      "Train on 1500 samples, validate on 244 samples\n",
      "Epoch 1/150\n",
      "1408/1500 [===========================>..] - ETA: 25s - loss: 1.5953 - acc: 0.2592"
     ]
    }
   ],
   "source": [
    "history = model.fit(X_Train,  y_train, batch_size=16, epochs=150,callbacks=callbacks,validation_data=(X_Test, y_test))"
   ]
  },
  {
   "cell_type": "code",
   "execution_count": null,
   "metadata": {},
   "outputs": [],
   "source": []
  }
 ],
 "metadata": {
  "kernelspec": {
   "display_name": "Python 3",
   "language": "python",
   "name": "python3"
  },
  "language_info": {
   "codemirror_mode": {
    "name": "ipython",
    "version": 3
   },
   "file_extension": ".py",
   "mimetype": "text/x-python",
   "name": "python",
   "nbconvert_exporter": "python",
   "pygments_lexer": "ipython3",
   "version": "3.7.3"
  }
 },
 "nbformat": 4,
 "nbformat_minor": 2
}

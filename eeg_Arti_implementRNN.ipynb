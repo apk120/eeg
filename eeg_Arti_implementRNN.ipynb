{
 "cells": [
  {
   "cell_type": "code",
   "execution_count": 2,
   "metadata": {},
   "outputs": [
    {
     "name": "stderr",
     "output_type": "stream",
     "text": [
      "Using TensorFlow backend.\n"
     ]
    }
   ],
   "source": [
    "from __future__ import division\n",
    "import keras\n",
    "import pandas as pd\n",
    "import math\n",
    "import os\n",
    "import mne\n",
    "from mne import io\n",
    "from mne.event import define_target_events\n",
    "import numpy as np\n",
    "import h5py\n",
    "import matplotlib.pyplot as plt\n",
    "from PIL import Image\n",
    "import glob"
   ]
  },
  {
   "cell_type": "code",
   "execution_count": 24,
   "metadata": {},
   "outputs": [],
   "source": [
    "from keras.models import Sequential\n",
    "from keras.layers import LSTM, Dense, Dropout, Masking, Embedding, Input"
   ]
  },
  {
   "cell_type": "code",
   "execution_count": 104,
   "metadata": {},
   "outputs": [],
   "source": [
    "df_train= pd.read_csv('D:/001/arti/separatedEpochs/EEGArtiData_train.csv')\n",
    "df_test= pd.read_csv(\"D:/001/arti/separatedEpochs/EEGArtiData_test.csv\")"
   ]
  },
  {
   "cell_type": "code",
   "execution_count": 105,
   "metadata": {},
   "outputs": [],
   "source": [
    "y_train= np.array(pd.get_dummies(df_train['type']))\n",
    "y_test= np.array(pd.get_dummies(df_test['type']))"
   ]
  },
  {
   "cell_type": "code",
   "execution_count": 106,
   "metadata": {},
   "outputs": [
    {
     "name": "stdout",
     "output_type": "stream",
     "text": [
      "(1500, 7)\n"
     ]
    }
   ],
   "source": [
    "print (np.shape(y_train))"
   ]
  },
  {
   "cell_type": "code",
   "execution_count": 107,
   "metadata": {},
   "outputs": [],
   "source": [
    "x_train_names= df_train['signal']\n",
    "x_train= []\n",
    "for name in x_train_names:\n",
    "    raw= mne.read_epochs(name, verbose= False)\n",
    "    data= (raw.get_data()[0, :, :])\n",
    "    x_train.append(data.T)\n",
    "#x_train= np.array(x_train)\n",
    "#print (len(x_train))"
   ]
  },
  {
   "cell_type": "code",
   "execution_count": 108,
   "metadata": {},
   "outputs": [
    {
     "name": "stdout",
     "output_type": "stream",
     "text": [
      "(1500, 2560, 63)\n"
     ]
    }
   ],
   "source": [
    "x_train= np.array(x_train)\n",
    "print (np.shape(x_train))"
   ]
  },
  {
   "cell_type": "code",
   "execution_count": 109,
   "metadata": {},
   "outputs": [],
   "source": [
    "#values= []\n",
    "#X_Train= np.array(x_train[0])\n",
    "#for i in range(0, len(x_train)):\n",
    " #   if len(x_train[i])== 1280:\n",
    "  #      x_train[i]= np.hstack((np.zeros(640), x_train[i], np.zeros(640)))\n",
    "   # values.append(len(x_train[i]))\n",
    "    #if i!=0:\n",
    "     #   X_Train= np.vstack((X_Train, x_train[i]))\n",
    "#values= np.array(values)\n",
    "#print (np.unique(values))"
   ]
  },
  {
   "cell_type": "code",
   "execution_count": 110,
   "metadata": {},
   "outputs": [],
   "source": [
    "#print (X_Train[10])\n",
    "#print (x_train[10])"
   ]
  },
  {
   "cell_type": "code",
   "execution_count": 111,
   "metadata": {},
   "outputs": [],
   "source": [
    "X_train= x_train"
   ]
  },
  {
   "cell_type": "code",
   "execution_count": 114,
   "metadata": {},
   "outputs": [
    {
     "name": "stdout",
     "output_type": "stream",
     "text": [
      "244\n"
     ]
    }
   ],
   "source": [
    "x_test_names= df_test['signal']\n",
    "x_test= []\n",
    "for name in x_test_names:\n",
    "    raw= mne.read_epochs(name, verbose= False)\n",
    "    data= raw.get_data()[0, :, :]\n",
    "    x_test.append(data.T)\n",
    "x_test= np.array(x_test)\n",
    "print (len(x_test))"
   ]
  },
  {
   "cell_type": "code",
   "execution_count": 115,
   "metadata": {},
   "outputs": [
    {
     "name": "stdout",
     "output_type": "stream",
     "text": [
      "(244, 2560, 63)\n"
     ]
    }
   ],
   "source": [
    "X_test= x_test\n",
    "print (np.shape(x_test))"
   ]
  },
  {
   "cell_type": "code",
   "execution_count": 116,
   "metadata": {},
   "outputs": [],
   "source": [
    "#values= []\n",
    "#X_Test= np.array(x_test[0])\n",
    "#for i in range(0, len(x_test)):\n",
    " #   if len(x_test[i])== 1280:\n",
    "  #      x_test[i]= np.hstack((np.zeros(640), x_test[i], np.zeros(640)))\n",
    "   # values.append(len(x_test[i]))\n",
    "    #if i!=0:\n",
    "     #   X_Test= np.vstack((X_Test, x_test[i]))\n",
    "#values= np.array(values)\n",
    "#print (np.unique(values))"
   ]
  },
  {
   "cell_type": "code",
   "execution_count": 117,
   "metadata": {},
   "outputs": [],
   "source": [
    "#print(np.shape(X_Test))\n",
    "#X_Train= X_Train.reshape((1500, 2560, 1))\n",
    "#X_Test= X_Test.reshape((244, 2560, 1))\n",
    "#print(np.shape(X_Test))"
   ]
  },
  {
   "cell_type": "code",
   "execution_count": 151,
   "metadata": {},
   "outputs": [],
   "source": [
    "input_length= 2560\n",
    "output_length= 7\n",
    "model = Sequential()\n",
    "\n",
    "# Embedding layer\n",
    "#model.add(Embedding(input_dim=num_words,input_length = training_length,output_dim=100,weights=[embedding_matrix],\n",
    "              #trainable=False,\n",
    "              #mask_zero=True))\n",
    "\n",
    "# Masking layer for pre-trained embeddings\n",
    "#model.add(Masking(mask_value=0.0))\n",
    "#model.add(Input(shape= (input_length, )))\n",
    "#model.add(Dense(256, activation= 'tanh', name= \"d1\"))\n",
    "# Recurrent layer\n",
    "model.add(LSTM(64, return_sequences=False, \n",
    "               dropout=0.01, recurrent_dropout=0.01, name= 'l1'))\n",
    "#model.add(LSTM(64, return_sequences=True, \n",
    " #              dropout=0.01, recurrent_dropout=0.01, name= 'l2'))\n",
    "\n",
    "# Fully connected layer\n",
    "model.add(Dense(1048, activation='relu', name='d2'))\n",
    "\n",
    "# Dropout for regularization\n",
    "model.add(Dropout(0.1))\n",
    "model.add(Dense(512, activation= 'relu', name= 'd3'))\n",
    "# Output layer\n",
    "model.add(Dense(output_length, activation='softmax', name='d4'))\n",
    "optimizer= keras.optimizers.Adam(lr=0.001, beta_1=0.9, beta_2=0.999, epsilon=None, decay=0.0, amsgrad=False)\n",
    "# Compile the model\n",
    "model.compile(optimizer= optimizer, loss='categorical_crossentropy', metrics=['accuracy'])"
   ]
  },
  {
   "cell_type": "code",
   "execution_count": 152,
   "metadata": {},
   "outputs": [],
   "source": [
    "from keras.callbacks import EarlyStopping, ModelCheckpoint\n",
    "\n",
    "# Create callbacks\n",
    "callbacks = [EarlyStopping(monitor='val_loss'),\n",
    "             ModelCheckpoint('D:/001/arti/separatedEpochs/model.h5', save_best_only= True, \n",
    "                             save_weights_only=False)]"
   ]
  },
  {
   "cell_type": "code",
   "execution_count": null,
   "metadata": {
    "scrolled": false
   },
   "outputs": [
    {
     "name": "stdout",
     "output_type": "stream",
     "text": [
      "Epoch 1/150\n",
      "1500/1500 [==============================] - 73s 49ms/step - loss: 1.8589 - acc: 0.2573\n",
      "Epoch 2/150\n",
      "1500/1500 [==============================] - 69s 46ms/step - loss: 1.7334 - acc: 0.3073\n",
      "Epoch 3/150\n",
      "1500/1500 [==============================] - 69s 46ms/step - loss: 1.5637 - acc: 0.3153\n",
      "Epoch 4/150\n",
      "1500/1500 [==============================] - 71s 47ms/step - loss: 1.5342 - acc: 0.3273\n",
      "Epoch 5/150\n",
      "1500/1500 [==============================] - 68s 46ms/step - loss: 1.5215 - acc: 0.3407\n",
      "Epoch 6/150\n",
      "1500/1500 [==============================] - 68s 46ms/step - loss: 1.5035 - acc: 0.3573\n",
      "Epoch 7/150\n",
      "1500/1500 [==============================] - 257s 171ms/step - loss: 1.4897 - acc: 0.3560\n",
      "Epoch 8/150\n",
      "1500/1500 [==============================] - 69s 46ms/step - loss: 1.4938 - acc: 0.3447\n",
      "Epoch 9/150\n",
      "1500/1500 [==============================] - 707s 471ms/step - loss: 1.4881 - acc: 0.3567\n",
      "Epoch 10/150\n",
      "1500/1500 [==============================] - 43s 29ms/step - loss: 1.4867 - acc: 0.3580\n",
      "Epoch 11/150\n",
      "1500/1500 [==============================] - 43s 28ms/step - loss: 1.4689 - acc: 0.3660\n",
      "Epoch 12/150\n",
      "1500/1500 [==============================] - 43s 29ms/step - loss: 1.4507 - acc: 0.3813\n",
      "Epoch 13/150\n",
      "1500/1500 [==============================] - 43s 29ms/step - loss: 1.4316 - acc: 0.4007\n",
      "Epoch 14/150\n",
      "1500/1500 [==============================] - 42s 28ms/step - loss: 1.4354 - acc: 0.3967\n",
      "Epoch 15/150\n",
      "1500/1500 [==============================] - 43s 29ms/step - loss: 1.4065 - acc: 0.4053\n",
      "Epoch 16/150\n",
      "1500/1500 [==============================] - 43s 28ms/step - loss: 1.4003 - acc: 0.4107\n",
      "Epoch 17/150\n",
      "1500/1500 [==============================] - 43s 29ms/step - loss: 1.3781 - acc: 0.4367\n",
      "Epoch 18/150\n",
      "1500/1500 [==============================] - 43s 28ms/step - loss: 1.4040 - acc: 0.4107\n",
      "Epoch 19/150\n",
      "1500/1500 [==============================] - 43s 28ms/step - loss: 1.3690 - acc: 0.4313\n",
      "Epoch 20/150\n",
      "1500/1500 [==============================] - 43s 28ms/step - loss: 1.3528 - acc: 0.4407\n",
      "Epoch 21/150\n",
      "1500/1500 [==============================] - 43s 28ms/step - loss: 1.3351 - acc: 0.4533\n",
      "Epoch 22/150\n",
      "1500/1500 [==============================] - 43s 28ms/step - loss: 1.3417 - acc: 0.4407\n",
      "Epoch 23/150\n",
      "1500/1500 [==============================] - 43s 29ms/step - loss: 1.3397 - acc: 0.4307\n",
      "Epoch 24/150\n",
      "1500/1500 [==============================] - 43s 29ms/step - loss: 1.3149 - acc: 0.4453\n",
      "Epoch 25/150\n",
      "1500/1500 [==============================] - 43s 28ms/step - loss: 1.2879 - acc: 0.4747\n",
      "Epoch 26/150\n",
      "1500/1500 [==============================] - 42s 28ms/step - loss: 1.2947 - acc: 0.4793\n",
      "Epoch 27/150\n",
      "1500/1500 [==============================] - 12522s 8s/step - loss: 1.2762 - acc: 0.4587\n",
      "Epoch 28/150\n",
      "1500/1500 [==============================] - 70s 47ms/step - loss: 1.2544 - acc: 0.4907\n",
      "Epoch 29/150\n",
      "1500/1500 [==============================] - 69s 46ms/step - loss: 1.2367 - acc: 0.4960\n",
      "Epoch 30/150\n",
      "1500/1500 [==============================] - 69s 46ms/step - loss: 1.1900 - acc: 0.5127\n",
      "Epoch 31/150\n",
      "1500/1500 [==============================] - 69s 46ms/step - loss: 1.1838 - acc: 0.5093\n",
      "Epoch 32/150\n",
      "1500/1500 [==============================] - 69s 46ms/step - loss: 1.1726 - acc: 0.5293\n",
      "Epoch 33/150\n",
      "1500/1500 [==============================] - 74s 49ms/step - loss: 1.1456 - acc: 0.5507\n",
      "Epoch 34/150\n",
      "1500/1500 [==============================] - 72s 48ms/step - loss: 1.1238 - acc: 0.5500\n",
      "Epoch 35/150\n",
      "1500/1500 [==============================] - 69s 46ms/step - loss: 1.0734 - acc: 0.5873\n",
      "Epoch 36/150\n",
      "1500/1500 [==============================] - 69s 46ms/step - loss: 1.0535 - acc: 0.5733\n",
      "Epoch 37/150\n",
      "1500/1500 [==============================] - 208s 139ms/step - loss: 1.0640 - acc: 0.5827\n",
      "Epoch 38/150\n",
      "1500/1500 [==============================] - 44s 29ms/step - loss: 1.0157 - acc: 0.5907\n",
      "Epoch 39/150\n",
      "1500/1500 [==============================] - 43s 29ms/step - loss: 0.9601 - acc: 0.6380\n",
      "Epoch 40/150\n",
      "1500/1500 [==============================] - 43s 28ms/step - loss: 0.9588 - acc: 0.6360\n",
      "Epoch 41/150\n",
      "1500/1500 [==============================] - 43s 28ms/step - loss: 0.9292 - acc: 0.6420\n",
      "Epoch 42/150\n",
      "1500/1500 [==============================] - 42s 28ms/step - loss: 0.8903 - acc: 0.6587\n",
      "Epoch 43/150\n",
      "1500/1500 [==============================] - 44s 29ms/step - loss: 0.8521 - acc: 0.6700\n",
      "Epoch 44/150\n",
      "1500/1500 [==============================] - 43s 29ms/step - loss: 0.8587 - acc: 0.6660\n",
      "Epoch 45/150\n",
      "1500/1500 [==============================] - 43s 29ms/step - loss: 0.8443 - acc: 0.6780\n",
      "Epoch 46/150\n",
      "1500/1500 [==============================] - 43s 29ms/step - loss: 0.7997 - acc: 0.6987\n",
      "Epoch 47/150\n",
      "1500/1500 [==============================] - 43s 29ms/step - loss: 0.7655 - acc: 0.7053\n",
      "Epoch 48/150\n",
      "1500/1500 [==============================] - 43s 28ms/step - loss: 0.7103 - acc: 0.7347\n",
      "Epoch 49/150\n",
      "1500/1500 [==============================] - 43s 29ms/step - loss: 0.6601 - acc: 0.7487\n",
      "Epoch 50/150\n",
      "1500/1500 [==============================] - 43s 29ms/step - loss: 0.6626 - acc: 0.7733\n",
      "Epoch 51/150\n",
      "1500/1500 [==============================] - 43s 29ms/step - loss: 0.6456 - acc: 0.7633\n",
      "Epoch 52/150\n",
      "1500/1500 [==============================] - 43s 28ms/step - loss: 0.5807 - acc: 0.7847\n",
      "Epoch 53/150\n",
      "1500/1500 [==============================] - 43s 28ms/step - loss: 0.5697 - acc: 0.8053\n",
      "Epoch 54/150\n",
      "1500/1500 [==============================] - 43s 29ms/step - loss: 0.5487 - acc: 0.8027\n",
      "Epoch 55/150\n",
      "1500/1500 [==============================] - 43s 29ms/step - loss: 0.5587 - acc: 0.8053\n",
      "Epoch 56/150\n",
      "1500/1500 [==============================] - 43s 28ms/step - loss: 0.4979 - acc: 0.8227\n",
      "Epoch 57/150\n",
      "1500/1500 [==============================] - 44s 29ms/step - loss: 0.4926 - acc: 0.8167\n",
      "Epoch 58/150\n",
      "1500/1500 [==============================] - 43s 29ms/step - loss: 0.4459 - acc: 0.8487\n",
      "Epoch 59/150\n",
      "1500/1500 [==============================] - 43s 29ms/step - loss: 0.4789 - acc: 0.8360\n",
      "Epoch 60/150\n",
      "1500/1500 [==============================] - 43s 29ms/step - loss: 0.5122 - acc: 0.8173\n",
      "Epoch 61/150\n",
      "1500/1500 [==============================] - 43s 29ms/step - loss: 0.4989 - acc: 0.8173\n",
      "Epoch 62/150\n",
      "1500/1500 [==============================] - 43s 29ms/step - loss: 0.4462 - acc: 0.8567\n",
      "Epoch 63/150\n",
      "1500/1500 [==============================] - 43s 28ms/step - loss: 0.3820 - acc: 0.8740\n",
      "Epoch 64/150\n",
      "1500/1500 [==============================] - 43s 28ms/step - loss: 0.3407 - acc: 0.8947\n",
      "Epoch 65/150\n",
      " 640/1500 [===========>..................] - ETA: 24s - loss: 0.3072 - acc: 0.9141"
     ]
    }
   ],
   "source": [
    "history = model.fit(X_Train,  y_train, batch_size=64, epochs=150)#,callbacks=callbacks,validation_data=(X_Test, y_test))"
   ]
  },
  {
   "cell_type": "code",
   "execution_count": null,
   "metadata": {},
   "outputs": [],
   "source": []
  }
 ],
 "metadata": {
  "kernelspec": {
   "display_name": "Python 3",
   "language": "python",
   "name": "python3"
  },
  "language_info": {
   "codemirror_mode": {
    "name": "ipython",
    "version": 3
   },
   "file_extension": ".py",
   "mimetype": "text/x-python",
   "name": "python",
   "nbconvert_exporter": "python",
   "pygments_lexer": "ipython3",
   "version": "3.7.3"
  }
 },
 "nbformat": 4,
 "nbformat_minor": 2
}

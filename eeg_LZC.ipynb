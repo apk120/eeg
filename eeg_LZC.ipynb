{
 "cells": [
  {
   "cell_type": "code",
   "execution_count": 20,
   "metadata": {},
   "outputs": [],
   "source": [
    "import matplotlib.pyplot as plt\n",
    "import h5py\n",
    "import os\n",
    "import scipy.signal as signal\n",
    "from scipy import sparse\n",
    "from scipy.sparse.linalg import spsolve\n",
    "import glob\n",
    "import numpy as np\n",
    "import shutil\n",
    "from decimal import Decimal\n",
    "from PIL import Image\n",
    "import mne\n",
    "import pandas as pd\n",
    "##code from https://github.com/Naereen/Lempel-Ziv_Complexity/blob/master/src/lempel_ziv_complexity.py"
   ]
  },
  {
   "cell_type": "code",
   "execution_count": 4,
   "metadata": {},
   "outputs": [
    {
     "name": "stdout",
     "output_type": "stream",
     "text": [
      "OrderedDict([('onset', 0.013671875), ('duration', 39.9921875), ('description', 'boundary'), ('orig_time', None)])\n",
      "(64, 31702)\n",
      "[-1.79053887e-02  4.22420508e-03  6.43819727e-03 ...  2.43238029e-05\n",
      "  3.26363564e-05  2.53985863e-05]\n"
     ]
    },
    {
     "name": "stderr",
     "output_type": "stream",
     "text": [
      "<ipython-input-4-05c8f0a5a105>:1: RuntimeWarning: Data will be preloaded. preload=False or a string preload is not supported when the data is stored in the .set file\n",
      "  eeg= mne.io.read_raw_eeglab('a.set')#, preload=True)\n",
      "<ipython-input-4-05c8f0a5a105>:1: RuntimeWarning: The data contains 'boundary' events, indicating data discontinuities. Be cautious of filtering and epoching around these events.\n",
      "  eeg= mne.io.read_raw_eeglab('a.set')#, preload=True)\n"
     ]
    }
   ],
   "source": [
    "eeg= mne.io.read_raw_eeglab('a.set')#, preload=True)\n",
    "print ((eeg.annotations[0]))\n",
    "print (np.shape(eeg.get_data()))\n",
    "print (eeg.get_data()[0])"
   ]
  },
  {
   "cell_type": "code",
   "execution_count": 13,
   "metadata": {},
   "outputs": [
    {
     "name": "stdout",
     "output_type": "stream",
     "text": [
      "2.9735003411769863e-07\n"
     ]
    }
   ],
   "source": [
    "i= 17\n",
    "eeg_arr= eeg.get_data()[i]- np.median(eeg.get_data()[i])\n",
    "print (np.median(eeg.get_data()[i]))"
   ]
  },
  {
   "cell_type": "code",
   "execution_count": 14,
   "metadata": {},
   "outputs": [],
   "source": [
    "for i in range(0, len(eeg_arr)):\n",
    "    if eeg_arr[i]<= 0:\n",
    "        eeg_arr[i]= 0\n",
    "        \n",
    "    else :\n",
    "        eeg_arr[i]= 1\n"
   ]
  },
  {
   "cell_type": "code",
   "execution_count": 15,
   "metadata": {},
   "outputs": [],
   "source": [
    "def lempel_ziv_complexity(binary_sequence):\n",
    "    \"\"\" Manual implementation of the Lempel-Ziv complexity.\n",
    "    It is defined as the number of different substrings encountered as the stream is viewed from begining to the end.\n",
    "    As an example:\n",
    "    >>> s = '1001111011000010'\n",
    "    >>> lempel_ziv_complexity(s)  # 1 / 0 / 01 / 1110 / 1100 / 0010\n",
    "    6\n",
    "    Marking in the different substrings the sequence complexity :math:`\\mathrm{Lempel-Ziv}(s) = 6`: :math:`s = 1 / 0 / 01 / 1110 / 1100 / 0010`.\n",
    "    - See the page https://en.wikipedia.org/wiki/Lempel-Ziv_complexity for more details.\n",
    "    Other examples:\n",
    "    >>> lempel_ziv_complexity('1010101010101010')  # 1 / 0 / 10\n",
    "    3\n",
    "    >>> lempel_ziv_complexity('1001111011000010000010')  # 1 / 0 / 01 / 1110 / 1100 / 0010 / 000 / 010\n",
    "    7\n",
    "    >>> lempel_ziv_complexity('100111101100001000001010')  # 1 / 0 / 01 / 1110 / 1100 / 0010 / 000 / 010 / 10\n",
    "    8\n",
    "    - Note: it is faster to give the sequence as a string of characters, like `'10001001'`, instead of a list or a numpy array.\n",
    "    - Note: see this notebook for more details, comparison, benchmarks and experiments: https://Nbviewer.Jupyter.org/github/Naereen/Lempel-Ziv_Complexity/Short_study_of_the_Lempel-Ziv_complexity.ipynb\n",
    "    - Note: there is also a Cython-powered version, for speedup, see :download:`lempel_ziv_complexity_cython.pyx`.\n",
    "    \"\"\"\n",
    "    u, v, w = 0, 1, 1\n",
    "    v_max = 1\n",
    "    length = len(binary_sequence)\n",
    "    complexity = 1\n",
    "    while True:\n",
    "        if binary_sequence[u + v - 1] == binary_sequence[w + v - 1]:\n",
    "            v += 1\n",
    "            if w + v >= length:\n",
    "                complexity += 1\n",
    "                break\n",
    "        else:\n",
    "            if v > v_max:\n",
    "                v_max = v\n",
    "            u += 1\n",
    "            if u == w:\n",
    "                complexity += 1\n",
    "                w += v_max\n",
    "                if w > length:\n",
    "                    break\n",
    "                else:\n",
    "                    u = 0\n",
    "                    v = 1\n",
    "                    v_max = 1\n",
    "            else:\n",
    "                v = 1\n",
    "    return complexity"
   ]
  },
  {
   "cell_type": "code",
   "execution_count": 18,
   "metadata": {},
   "outputs": [
    {
     "name": "stdout",
     "output_type": "stream",
     "text": [
      "792\n"
     ]
    }
   ],
   "source": [
    "complexity= lempel_ziv_complexity((eeg_arr))\n",
    "print (complexity)"
   ]
  },
  {
   "cell_type": "code",
   "execution_count": 17,
   "metadata": {},
   "outputs": [
    {
     "name": "stdout",
     "output_type": "stream",
     "text": [
      "23\n"
     ]
    }
   ],
   "source": [
    "print (len(str(eeg_arr)))"
   ]
  },
  {
   "cell_type": "code",
   "execution_count": 19,
   "metadata": {},
   "outputs": [
    {
     "name": "stdout",
     "output_type": "stream",
     "text": [
      "0.37354774781209826\n"
     ]
    }
   ],
   "source": [
    "n_complexity= complexity*np.log2(len(eeg.get_data()[0]))/len(eeg.get_data()[0])\n",
    "print (n_complexity)"
   ]
  },
  {
   "cell_type": "code",
   "execution_count": null,
   "metadata": {},
   "outputs": [],
   "source": []
  }
 ],
 "metadata": {
  "kernelspec": {
   "display_name": "Python 3",
   "language": "python",
   "name": "python3"
  },
  "language_info": {
   "codemirror_mode": {
    "name": "ipython",
    "version": 3
   },
   "file_extension": ".py",
   "mimetype": "text/x-python",
   "name": "python",
   "nbconvert_exporter": "python",
   "pygments_lexer": "ipython3",
   "version": "3.7.3"
  }
 },
 "nbformat": 4,
 "nbformat_minor": 2
}

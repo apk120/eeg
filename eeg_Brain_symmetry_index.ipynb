{
 "cells": [
  {
   "cell_type": "code",
   "execution_count": 30,
   "metadata": {},
   "outputs": [],
   "source": [
    "import pandas as pd\n",
    "import numpy as np\n",
    "import matplotlib.pyplot as plt\n",
    "import h5py\n",
    "import os\n",
    "import scipy.signal as signal\n",
    "from scipy import sparse\n",
    "from scipy.sparse.linalg import spsolve"
   ]
  },
  {
   "cell_type": "code",
   "execution_count": 35,
   "metadata": {},
   "outputs": [],
   "source": [
    "def CAR(samples):\n",
    "    s=[]\n",
    "    for i in range(0, len(samples)):\n",
    "        s.append((sum(samples))/64.0)\n",
    "    \n",
    "    sample=samples-s\n",
    "    return sample, s"
   ]
  },
  {
   "cell_type": "code",
   "execution_count": 36,
   "metadata": {},
   "outputs": [
    {
     "name": "stdout",
     "output_type": "stream",
     "text": [
      "[u'AsynchronData', u'RawData', u'SavedFeatues', u'Version']\n",
      "[u'AsynchronSignalTypes', u'Time', u'TypeID', u'Value']\n",
      "[u'AcquisitionTaskDescription', u'DAQDeviceCapabilities', u'DAQDeviceDescription', u'Samples', u'SessionDescription', u'SubjectDescription']\n",
      "40655\n",
      "[[ 9011]\n",
      " [40111]]\n",
      "[]\n"
     ]
    }
   ],
   "source": [
    "eeg=h5py.File('D:\\Imprint-CMCL-Data\\koushik\\patient_id_6\\Patient_id_06_Day90_04.01.2019\\\\aa_2019.01.04_13.16.04.hdf5',mode='r')\n",
    "keys2= list(eeg.keys())\n",
    "print keys2\n",
    "keys1= list(eeg[keys2[0]].keys())\n",
    "print keys1\n",
    "#print eeg[keys2[0]][keys1[0]]\n",
    "#eeg[\"RawData\"]['Samples']\n",
    "print list(eeg['RawData'].keys())\n",
    "print eeg['RawData']['Samples'].shape[0]\n",
    "sampletime = np.array(eeg['AsynchronData'][\"Time\"])\n",
    "time=sampletime/256.0\n",
    "sampletime1=np.delete(sampletime, len(sampletime)-1)\n",
    "#sampletime1=np.delete(sampletime1, len(sampletime1)-1)\n",
    "#sampletime1=sampletime\n",
    "sampletime1=np.delete(sampletime1, 0)\n",
    "#sampletime1=np.delete(sampletime1, 0)\n",
    "print sampletime\n",
    "print sampletime1"
   ]
  },
  {
   "cell_type": "code",
   "execution_count": 37,
   "metadata": {},
   "outputs": [],
   "source": [
    "def elliptic_bandpass(order, rp, rs, lowcut, highcut):\n",
    "    fs=256\n",
    "    nyq = 0.5 * fs\n",
    "    low = lowcut / nyq\n",
    "    high = highcut / nyq\n",
    "    b, a = signal.ellip(order, rp, rs, [low, high], btype='bandpass', analog=False, output='ba')\n",
    "    return b, a"
   ]
  },
  {
   "cell_type": "code",
   "execution_count": 38,
   "metadata": {},
   "outputs": [],
   "source": [
    "def baseline_als(y, lam, p, niter=10):\n",
    "    L = len(y)\n",
    "    D = sparse.diags([1,-2,1],[0,-1,-2], shape=(L,L-2))\n",
    "    #D = sparse.csc_matrix(np.diff(np.eye(L), 2))\n",
    "    w = np.ones(L)\n",
    "    for i in range(niter):\n",
    "        W = sparse.spdiags(w, 0, L, L)\n",
    "        Z = W + lam * D.dot(D.transpose())\n",
    "        z = spsolve(Z, w*y)\n",
    "        w = p * (y > z) + (1-p) * (y < z)\n",
    "    return z"
   ]
  },
  {
   "cell_type": "code",
   "execution_count": 39,
   "metadata": {},
   "outputs": [],
   "source": [
    "#from scipy.fftpack import fft, ifft\n",
    "samples=np.array(eeg['RawData']['Samples'])\n",
    "samples=samples.T\n",
    "samples, _= CAR(samples)\n",
    "for i in range(0, len(samples)):\n",
    "    z=baseline_als(samples[i], 10**4, 0.1, 10)\n",
    "    samples[i]=samples[i]-z\n",
    "    "
   ]
  },
  {
   "cell_type": "code",
   "execution_count": 40,
   "metadata": {},
   "outputs": [
    {
     "data": {
      "text/plain": [
       "[<matplotlib.lines.Line2D at 0x12fbe780>]"
      ]
     },
     "execution_count": 40,
     "metadata": {},
     "output_type": "execute_result"
    },
    {
     "data": {
      "image/png": "[encoded data removed]",
      "text/plain": [
       "<Figure size 432x288 with 1 Axes>"
      ]
     },
     "metadata": {
      "needs_background": "light"
     },
     "output_type": "display_data"
    }
   ],
   "source": [
    "bsir=[]\n",
    "fs=256\n",
    "order=4\n",
    "rp=0.5\n",
    "rs=30\n",
    "for i in range (0, len(samples)):\n",
    "    b, a= elliptic_bandpass(order, rp, rs, 1, 25)\n",
    "    bsir.append(signal.filtfilt(b, a, samples[i], padlen=0))\n",
    "    \n",
    "plt.plot(np.arange(len(bsir[13][3000:])), bsir[13][3000:])"
   ]
  },
  {
   "cell_type": "code",
   "execution_count": 41,
   "metadata": {},
   "outputs": [],
   "source": [
    "bsi_channels=[[13, 31], [9, 27], [31, 49], [27, 45], [49, 59], [45, 57], [13, 33], [9, 25]]\n",
    "bsi_channel_names=[['F4', 'C4'], ['F3', 'C3'], ['C4', 'P4'], ['C3', 'P3'], ['P4', 'O2'], ['P3', 'O1'], ['F4', 'T4'], \n",
    "                   ['F3', 'T3']]"
   ]
  },
  {
   "cell_type": "code",
   "execution_count": 42,
   "metadata": {},
   "outputs": [],
   "source": [
    "def compute_bsi_t(bsir, t, T):\n",
    "    ni=np.zeros(T)\n",
    "    for i in range(0, len(bsi_channels)):\n",
    "        \n",
    "        rj=np.abs(np.fft.fft(bsir[bsi_channels[i][0]][t-T:t]))\n",
    "        lj=np.abs(np.fft.fft(bsir[bsi_channels[i][1]][t-T:t]))\n",
    "        ni=ni+((rj-lj)/(rj+lj))/len(bsi_channels)\n",
    "        \n",
    "        \n",
    "    ni=np.mean(np.abs(ni))\n",
    "    print (ni.real)\n",
    "    return ni"
   ]
  },
  {
   "cell_type": "code",
   "execution_count": 47,
   "metadata": {
    "scrolled": true
   },
   "outputs": [
    {
     "name": "stdout",
     "output_type": "stream",
     "text": [
      "0.2704173061395986\n",
      "0.16677599419220188\n",
      "0.05360035575974905\n",
      "0.14754482108481826\n",
      "0.05269658543241187\n",
      "0.06436342955479105\n",
      "0.0525078774444455\n",
      "0.1317715739334407\n",
      "0.10875682904299389\n",
      "0.18838835888753058\n",
      "0.0679040409290701\n",
      "0.11892744872670624\n",
      "0.12513873379433\n",
      "0.11128270477678774\n",
      "0.04010607331249128\n",
      "0.05498703649443518\n",
      "0.11336438042000907\n",
      "0.11195475088166558\n",
      "0.08177797974404473\n",
      "0.13636053636601328\n",
      "0.11794470909632775\n",
      "0.074341090929718\n",
      "0.20657650611935585\n",
      "0.27869337153290985\n",
      "0.05820558387423782\n",
      "0.13004805866036856\n"
     ]
    }
   ],
   "source": [
    "T=256*20  #window time\n",
    "bsi=[]\n",
    "for i in range(sampletime[0]+T, sampletime[1], 1024):\n",
    "    bsi.append(compute_bsi_t(bsir, i, T))\n",
    "    #print i\n"
   ]
  },
  {
   "cell_type": "code",
   "execution_count": 48,
   "metadata": {},
   "outputs": [
    {
     "name": "stdout",
     "output_type": "stream",
     "text": [
      "[0.2704173061395986, 0.16677599419220188, 0.05360035575974905, 0.14754482108481826, 0.05269658543241187, 0.06436342955479105, 0.0525078774444455, 0.1317715739334407, 0.10875682904299389, 0.18838835888753058, 0.0679040409290701, 0.11892744872670624, 0.12513873379433, 0.11128270477678774, 0.04010607331249128, 0.05498703649443518, 0.11336438042000907, 0.11195475088166558, 0.08177797974404473, 0.13636053636601328, 0.11794470909632775, 0.074341090929718, 0.20657650611935585, 0.27869337153290985, 0.05820558387423782, 0.13004805866036856]\n"
     ]
    },
    {
     "data": {
      "image/png": "[encoded data removed]",
      "text/plain": [
       "<Figure size 432x288 with 1 Axes>"
      ]
     },
     "metadata": {
      "needs_background": "light"
     },
     "output_type": "display_data"
    }
   ],
   "source": [
    "plt.plot(np.arange(len(bsi)), np.array(bsi))\n",
    "print bsi"
   ]
  },
  {
   "cell_type": "code",
   "execution_count": null,
   "metadata": {},
   "outputs": [],
   "source": [
    "t=16431\n",
    "ni=np.zeros(T)\n",
    "\n",
    "rj=bsir[bsi_channels[1][0]][t-T:t]\n",
    "print rj\n",
    "#z1=baseline_als(bsir[bsi_channels[1][1]][t-T:t],10**4, 0.01, 10)\n",
    "lj=bsir[bsi_channels[1][1]][t-T:t]\n",
    "ni=ni+((fft(rj)-fft(lj))/(fft(rj)+fft(lj)))\n",
    "print max(ni.real)"
   ]
  },
  {
   "cell_type": "code",
   "execution_count": null,
   "metadata": {},
   "outputs": [],
   "source": [
    "print len(bsi_channels)"
   ]
  },
  {
   "cell_type": "code",
   "execution_count": null,
   "metadata": {},
   "outputs": [],
   "source": [
    "plt.plot(np.arange(len(rj)), rj)"
   ]
  },
  {
   "cell_type": "code",
   "execution_count": null,
   "metadata": {},
   "outputs": [],
   "source": []
  }
 ],
 "metadata": {
  "kernelspec": {
   "display_name": "Python 2",
   "language": "python",
   "name": "python2"
  },
  "language_info": {
   "codemirror_mode": {
    "name": "ipython",
    "version": 2
   },
   "file_extension": ".py",
   "mimetype": "text/x-python",
   "name": "python",
   "nbconvert_exporter": "python",
   "pygments_lexer": "ipython2",
   "version": "2.7.16"
  }
 },
 "nbformat": 4,
 "nbformat_minor": 2
}

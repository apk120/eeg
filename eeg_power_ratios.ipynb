{
 "cells": [
  {
   "cell_type": "code",
   "execution_count": 1,
   "metadata": {},
   "outputs": [],
   "source": [
    "import pandas as pd\n",
    "import numpy as np\n",
    "import matplotlib.pyplot as plt\n",
    "import h5py\n",
    "import os\n",
    "import scipy.signal as signal\n",
    "from scipy import sparse\n",
    "from scipy.sparse.linalg import spsolve\n",
    "import glob"
   ]
  },
  {
   "cell_type": "code",
   "execution_count": 3,
   "metadata": {},
   "outputs": [],
   "source": [
    "all_power= np.load('D:\\Imprint-CMCL-Data\\koushik\\patient_id_6\\sub_band_power\\\\all_powers.npy')"
   ]
  },
  {
   "cell_type": "code",
   "execution_count": 9,
   "metadata": {},
   "outputs": [
    {
     "name": "stdout",
     "output_type": "stream",
     "text": [
      "(21L, 7L, 10L, 5L)\n"
     ]
    }
   ],
   "source": [
    "print np.shape(all_power)\n",
    "##1-D-Channel no. , 2-D-actions-a,b,... , 3-D- 5days*2 for a and aa of each day, 4-D-5powers-delta, theta, alpha, beta, gamma"
   ]
  },
  {
   "cell_type": "code",
   "execution_count": 25,
   "metadata": {},
   "outputs": [],
   "source": [
    "spr_channels=[0,2,7,9,11,13,15,62,25,27,29,31,33,63,43,45,47,49,51,57,59]\n",
    "spr_channels=np.array(spr_channels)\n",
    "spr_channel_names=['fp1','fp2','f7','f3','fz','f4','f8','A1','T3','C3','Cz','C4','T4','A2','T5','P3','Pz','P4','T6'\n",
    "                  ,'O1','O2']"
   ]
  },
  {
   "cell_type": "code",
   "execution_count": 11,
   "metadata": {},
   "outputs": [],
   "source": [
    "right_hem=[2, 13, 15, 31, 33, 63, 49, 51, 59]\n",
    "right_hem_names=['fp2', 'f4', 'f8', 'C4', 'T4', 'A2', 'P4', 'T6', 'O2']\n",
    "left_hem=[0, 7, 9, 62, 25, 27, 43, 45, 57]\n",
    "left_hem_names=['fp1', 'f7', 'f3', 'A1', 'T3', 'C3', 'T5', 'P3', 'O1']"
   ]
  },
  {
   "cell_type": "code",
   "execution_count": 31,
   "metadata": {},
   "outputs": [],
   "source": [
    "mean_right_hem=np.zeros(np.shape(all_power[0]))\n",
    "mean_left_hem=np.zeros(np.shape(all_power[0]))\n",
    "for i in right_hem:\n",
    "    r=np.where(spr_channels==i)\n",
    "    mean_right_hem=mean_right_hem+all_power[r[0][0]]/len(right_hem)\n",
    "    \n",
    "for i in left_hem:\n",
    "    l=np.where(spr_channels==i)\n",
    "    mean_left_hem=mean_left_hem+all_power[l[0][0]]/len(left_hem)"
   ]
  },
  {
   "cell_type": "code",
   "execution_count": 30,
   "metadata": {},
   "outputs": [
    {
     "name": "stdout",
     "output_type": "stream",
     "text": [
      "1\n"
     ]
    }
   ],
   "source": [
    "r=np.where(spr_channels==2)\n",
    "print r[0][0]"
   ]
  },
  {
   "cell_type": "code",
   "execution_count": 32,
   "metadata": {},
   "outputs": [
    {
     "name": "stdout",
     "output_type": "stream",
     "text": [
      "[[6.82044309e+00 1.78814116e+01 1.02589786e+01 4.04874527e+00\n",
      "  1.82622015e+00]\n",
      " [1.13331315e+02 2.17131911e+01 1.11598077e+01 3.57024165e+00\n",
      "  9.90986522e-01]\n",
      " [1.03822790e+01 8.11052402e+00 7.50018251e+00 2.35082574e+00\n",
      "  1.03837984e+00]\n",
      " [9.59639327e+00 7.51268970e+00 8.60682366e+00 2.27331684e+00\n",
      "  6.54087899e-01]\n",
      " [2.12561396e+03 3.05269273e+01 1.78824291e+01 6.13803090e+00\n",
      "  3.53272462e+04]\n",
      " [2.50307824e+03 3.16844321e+01 1.40492845e+01 5.52785640e+00\n",
      "  4.53843632e+04]\n",
      " [1.07404464e+03 9.34947388e+00 1.73399263e+01 4.19598710e+00\n",
      "  1.19635666e+00]\n",
      " [1.79662653e+01 8.91987131e+00 1.60999717e+01 4.33030780e+00\n",
      "  1.41316227e+00]\n",
      " [4.41462858e+00 4.68867820e+00 1.20942752e+01 4.51810280e+00\n",
      "  1.17169549e+00]\n",
      " [2.80118920e+00 6.04518755e+00 1.52979390e+01 5.15629079e+00\n",
      "  1.48919858e+00]]\n"
     ]
    }
   ],
   "source": [
    "print mean_right_hem[0]\n",
    "    "
   ]
  },
  {
   "cell_type": "code",
   "execution_count": 34,
   "metadata": {},
   "outputs": [
    {
     "name": "stdout",
     "output_type": "stream",
     "text": [
      "10\n"
     ]
    }
   ],
   "source": [
    "print len(mean_left_hem[0])"
   ]
  },
  {
   "cell_type": "code",
   "execution_count": 42,
   "metadata": {},
   "outputs": [],
   "source": [
    "mean_alpha_a_right_pre=[] \n",
    "mean_alpha_a_right_post=[]\n",
    "mean_alpha_a_left_post=[]\n",
    "mean_alpha_a_left_pre=[]\n",
    "mean_beta_a_right_pre=[] \n",
    "mean_beta_a_right_post=[]\n",
    "mean_beta_a_left_post=[]\n",
    "mean_beta_a_left_pre=[]\n",
    "mean_delta_a_right_pre=[] \n",
    "mean_delta_a_right_post=[]\n",
    "mean_delta_a_left_post=[]\n",
    "mean_delta_a_left_pre=[]\n",
    "mean_theta_a_right_pre=[] \n",
    "mean_theta_a_right_post=[]\n",
    "mean_theta_a_left_post=[]\n",
    "mean_theta_a_left_pre=[]\n",
    "for i in range(0, len(mean_right_hem[0]), 2):\n",
    "    \n",
    "    mean_alpha_a_right_pre.append(mean_right_hem[0][i][2])\n",
    "    mean_alpha_a_left_pre.append(mean_left_hem[0][i][2])\n",
    "    mean_alpha_a_left_post.append(mean_left_hem[0][i+1][2])\n",
    "    mean_alpha_a_right_post.append(mean_right_hem[0][i+1][2])\n",
    "    \n",
    "    mean_beta_a_right_pre.append(mean_right_hem[0][i][3])\n",
    "    mean_beta_a_left_pre.append(mean_left_hem[0][i][3])\n",
    "    mean_beta_a_left_post.append(mean_left_hem[0][i+1][3])\n",
    "    mean_beta_a_right_post.append(mean_right_hem[0][i+1][3])\n",
    "    \n",
    "    mean_delta_a_right_pre.append(mean_right_hem[0][i][0])\n",
    "    mean_delta_a_left_pre.append(mean_left_hem[0][i][0])\n",
    "    mean_delta_a_left_post.append(mean_left_hem[0][i+1][0])\n",
    "    mean_delta_a_right_post.append(mean_right_hem[0][i+1][0])\n",
    "    \n",
    "    mean_theta_a_right_pre.append(mean_right_hem[0][i][1])\n",
    "    mean_theta_a_left_pre.append(mean_left_hem[0][i][1])\n",
    "    mean_theta_a_left_post.append(mean_left_hem[0][i+1][1])\n",
    "    mean_theta_a_right_post.append(mean_right_hem[0][i+1][1])\n"
   ]
  },
  {
   "cell_type": "code",
   "execution_count": 43,
   "metadata": {},
   "outputs": [],
   "source": [
    "mean_alpha_b_right_pre=[] \n",
    "mean_alpha_b_right_post=[]\n",
    "mean_alpha_b_left_post=[]\n",
    "mean_alpha_b_left_pre=[]\n",
    "mean_beta_b_right_pre=[] \n",
    "mean_beta_b_right_post=[]\n",
    "mean_beta_b_left_post=[]\n",
    "mean_beta_b_left_pre=[]\n",
    "mean_delta_b_right_pre=[] \n",
    "mean_delta_b_right_post=[]\n",
    "mean_delta_b_left_post=[]\n",
    "mean_delta_b_left_pre=[]\n",
    "mean_theta_b_right_pre=[] \n",
    "mean_theta_b_right_post=[]\n",
    "mean_theta_b_left_post=[]\n",
    "mean_theta_b_left_pre=[]\n",
    "for i in range(0, len(mean_right_hem[0]), 2):\n",
    "    \n",
    "    mean_alpha_b_right_pre.append(mean_right_hem[1][i][2])\n",
    "    mean_alpha_b_left_pre.append(mean_left_hem[1][i][2])\n",
    "    mean_alpha_b_left_post.append(mean_left_hem[1][i+1][2])\n",
    "    mean_alpha_b_right_post.append(mean_right_hem[1][i+1][2])\n",
    "    \n",
    "    mean_beta_b_right_pre.append(mean_right_hem[1][i][3])\n",
    "    mean_beta_b_left_pre.append(mean_left_hem[1][i][3])\n",
    "    mean_beta_b_left_post.append(mean_left_hem[1][i+1][3])\n",
    "    mean_beta_b_right_post.append(mean_right_hem[1][i+1][3])\n",
    "    \n",
    "    mean_delta_b_right_pre.append(mean_right_hem[1][i][0])\n",
    "    mean_delta_b_left_pre.append(mean_left_hem[1][i][0])\n",
    "    mean_delta_b_left_post.append(mean_left_hem[1][i+1][0])\n",
    "    mean_delta_b_right_post.append(mean_right_hem[1][i+1][0])\n",
    "    \n",
    "    mean_theta_b_right_pre.append(mean_right_hem[1][i][1])\n",
    "    mean_theta_b_left_pre.append(mean_left_hem[1][i][1])\n",
    "    mean_theta_b_left_post.append(mean_left_hem[1][i+1][1])\n",
    "    mean_theta_b_right_post.append(mean_right_hem[1][i+1][1])"
   ]
  },
  {
   "cell_type": "code",
   "execution_count": 61,
   "metadata": {},
   "outputs": [
    {
     "data": {
      "text/plain": [
       "<BarContainer object of 5 artists>"
      ]
     },
     "execution_count": 61,
     "metadata": {},
     "output_type": "execute_result"
    },
    {
     "data": {
      "image/png": "[encoded data removed]",
      "text/plain": [
       "<Figure size 1800x1152 with 1 Axes>"
      ]
     },
     "metadata": {
      "needs_background": "light"
     },
     "output_type": "display_data"
    }
   ],
   "source": [
    "plt.rcParams[\"figure.figsize\"] = [25,16]\n",
    "plt.bar([0.5,2,6.5,29,89], np.array(mean_alpha_a_left_post)/np.array(mean_alpha_a_right_post))\n",
    "plt.bar([1,2.5,7,30,90], np.array(mean_alpha_a_left_pre)/np.array(mean_alpha_a_right_pre))"
   ]
  },
  {
   "cell_type": "code",
   "execution_count": 46,
   "metadata": {},
   "outputs": [
    {
     "data": {
      "text/plain": [
       "array([1.14104439, 1.17050402, 0.80265052, 0.93140927, 1.25160765])"
      ]
     },
     "execution_count": 46,
     "metadata": {},
     "output_type": "execute_result"
    }
   ],
   "source": [
    "np.array(mean_alpha_a_left_post)/np.array(mean_alpha_a_left_pre)"
   ]
  },
  {
   "cell_type": "code",
   "execution_count": null,
   "metadata": {},
   "outputs": [],
   "source": []
  }
 ],
 "metadata": {
  "kernelspec": {
   "display_name": "Python 2",
   "language": "python",
   "name": "python2"
  },
  "language_info": {
   "codemirror_mode": {
    "name": "ipython",
    "version": 2
   },
   "file_extension": ".py",
   "mimetype": "text/x-python",
   "name": "python",
   "nbconvert_exporter": "python",
   "pygments_lexer": "ipython2",
   "version": "2.7.16"
  }
 },
 "nbformat": 4,
 "nbformat_minor": 2
}

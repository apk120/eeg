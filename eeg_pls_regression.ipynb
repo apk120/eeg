{
 "cells": [
  {
   "cell_type": "code",
   "execution_count": 1,
   "metadata": {},
   "outputs": [],
   "source": [
    "import matplotlib.pyplot as plt\n",
    "import h5py\n",
    "import os\n",
    "import scipy.signal as signal\n",
    "from scipy import sparse\n",
    "from scipy.sparse.linalg import spsolve\n",
    "import glob\n",
    "import numpy as np\n",
    "import shutil\n",
    "from decimal import Decimal\n",
    "from PIL import Image\n",
    "import mne\n",
    "import pandas as pd"
   ]
  },
  {
   "cell_type": "code",
   "execution_count": 2,
   "metadata": {},
   "outputs": [
    {
     "name": "stdout",
     "output_type": "stream",
     "text": [
      "[[120 120 124 126 126]\n",
      " [110 110 115 115 124]\n",
      " [108 108 111 119 120]\n",
      " [44 44 55 54 57]\n",
      " [76 96 122 123 123]\n",
      " [50 52 92 94 100]]\n"
     ]
    }
   ],
   "source": [
    "df= pd.read_excel('IMPRINT.xlsx')\n",
    "nihss= df\n",
    "nihss= nihss.iloc[[1, 6, 8, 10, 13, 18], [9, 10, 11, 12, 13]]\n",
    "nihss= np.array(nihss)\n",
    "mrs= df\n",
    "\n",
    "mrs= mrs.iloc[[1, 6, 8, 10, 13, 18], [14, 15, 16, 17, 18]]\n",
    "mrs= np.array(mrs)\n",
    "fma= df\n",
    "fma= fma.iloc[[1, 6, 8, 10, 13, 18], [19, 20, 21, 22, 23]]\n",
    "fma= np.array(fma)\n",
    "chai= df\n",
    "chai= chai.iloc[[1, 6, 8, 10, 13, 18], [24, 25, 26, 27, 28]]\n",
    "chai= np.array(chai)\n",
    "fma[3][4]= 57\n",
    "fma[5][3]= 94\n",
    "fma[5][4]= 100\n",
    "print (fma)"
   ]
  },
  {
   "cell_type": "code",
   "execution_count": null,
   "metadata": {},
   "outputs": [],
   "source": []
  }
 ],
 "metadata": {
  "kernelspec": {
   "display_name": "Python 3",
   "language": "python",
   "name": "python3"
  },
  "language_info": {
   "codemirror_mode": {
    "name": "ipython",
    "version": 3
   },
   "file_extension": ".py",
   "mimetype": "text/x-python",
   "name": "python",
   "nbconvert_exporter": "python",
   "pygments_lexer": "ipython3",
   "version": "3.7.3"
  }
 },
 "nbformat": 4,
 "nbformat_minor": 2
}
